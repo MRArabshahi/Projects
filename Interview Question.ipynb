{
 "cells": [
  {
   "cell_type": "markdown",
   "id": "634b17cb",
   "metadata": {},
   "source": [
    "## Project 1: One of the most common interview questions\n",
    "\n",
    "In this project, there is a sentence below.  \n",
    "We want to write a code to show the most repeated character in the sentence."
   ]
  },
  {
   "cell_type": "code",
   "execution_count": 4,
   "id": "ca91d9ca",
   "metadata": {},
   "outputs": [
    {
     "name": "stdout",
     "output_type": "stream",
     "text": [
      "{'T': 1, 'h': 1, 'i': 5, 's': 3, ' ': 5, 'a': 1, 'c': 1, 'o': 3, 'm': 2, 'n': 3, 't': 2, 'e': 3, 'r': 1, 'v': 1, 'w': 1, 'q': 1, 'u': 1}\n",
      "The maximum repeated charcter is: ['i']\n"
     ]
    }
   ],
   "source": [
    "sentence = 'This is a common interview question'\n",
    "dict1 = {}\n",
    "for char in sentence:\n",
    "    if char in dict1:\n",
    "        dict1[char] += 1\n",
    "    else:\n",
    "        dict1[char] = 1\n",
    "\n",
    "print(dict1)\n",
    "value = dict1.values()\n",
    "maximum_values = [k for k, v in dict1.items() if v == max(value) and k != ' ']\n",
    "print('The maximum repeated charcter is:', maximum_values)"
   ]
  }
 ],
 "metadata": {
  "kernelspec": {
   "display_name": "Python 3",
   "language": "python",
   "name": "python3"
  },
  "language_info": {
   "codemirror_mode": {
    "name": "ipython",
    "version": 3
   },
   "file_extension": ".py",
   "mimetype": "text/x-python",
   "name": "python",
   "nbconvert_exporter": "python",
   "pygments_lexer": "ipython3",
   "version": "3.13.3"
  }
 },
 "nbformat": 4,
 "nbformat_minor": 5
}
